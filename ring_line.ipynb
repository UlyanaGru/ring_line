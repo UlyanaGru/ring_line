{
 "cells": [
  {
   "cell_type": "code",
   "execution_count": 1,
   "id": "53642562",
   "metadata": {},
   "outputs": [],
   "source": [
    "import sys\n",
    "from collections import defaultdict"
   ]
  },
  {
   "cell_type": "code",
   "execution_count": 2,
   "id": "e92686bd",
   "metadata": {},
   "outputs": [],
   "source": [
    "def time_to_minutes(time_str):\n",
    "    \"\"\"Convert time string 'hh:mm' to minutes since 00:00\"\"\"\n",
    "    hours, minutes = map(int, time_str.split(':'))\n",
    "    return hours * 60 + minutes"
   ]
  },
  {
   "cell_type": "code",
   "execution_count": null,
   "id": "cfb06900",
   "metadata": {},
   "outputs": [],
   "source": [
    "#Чтение всех строк\n",
    "data = sys.stdin.read().splitlines()"
   ]
  },
  {
   "cell_type": "code",
   "execution_count": null,
   "id": "8b5a0464",
   "metadata": {},
   "outputs": [],
   "source": [
    "#Поиск событий\n",
    "events = []\n",
    "for line in data:\n",
    "    if not line.strip():\n",
    "        continue  \n",
    "    parts = line.split()\n",
    "    if len(parts) < 4:\n",
    "        continue      \n",
    "    try:\n",
    "        pid = int(parts[0])\n",
    "        action = parts[1]\n",
    "        station = int(parts[2])\n",
    "        time_str = parts[3]\n",
    "        time_minutes = time_to_minutes(time_str)\n",
    "        events.append((time_minutes, action, station, pid))\n",
    "    except (ValueError, IndexError):\n",
    "        continue"
   ]
  },
  {
   "cell_type": "code",
   "execution_count": null,
   "id": "c519c8f3",
   "metadata": {},
   "outputs": [],
   "source": [
    "#Определение начала и конца отсчета\n",
    "start_time = time_to_minutes(\"05:00\")\n",
    "end_time = time_to_minutes(\"23:30\")\n",
    "total_duration = end_time - start_time"
   ]
  },
  {
   "cell_type": "code",
   "execution_count": null,
   "id": "d1d72690",
   "metadata": {},
   "outputs": [],
   "source": [
    "#Начальные и конечные мероприятия, чтобы мы могли охватить весь день\n",
    "events.append((start_time, 'start', 1, -1))\n",
    "events.append((end_time, 'end', 10, -1))"
   ]
  },
  {
   "cell_type": "code",
   "execution_count": null,
   "id": "fde6fb1b",
   "metadata": {},
   "outputs": [],
   "source": [
    "#Сортировка событий по времени\n",
    "events.sort(key=lambda x: x[0])"
   ]
  },
  {
   "cell_type": "code",
   "execution_count": null,
   "id": "3de434e0",
   "metadata": {},
   "outputs": [],
   "source": [
    "#Обработка событий с использованием алгоритма развертки\n",
    "current_passengers = 0\n",
    "prev_time = start_time\n",
    "total_passenger_minutes = 0.0"
   ]
  }
 ],
 "metadata": {
  "kernelspec": {
   "display_name": "Python 3",
   "language": "python",
   "name": "python3"
  },
  "language_info": {
   "codemirror_mode": {
    "name": "ipython",
    "version": 3
   },
   "file_extension": ".py",
   "mimetype": "text/x-python",
   "name": "python",
   "nbconvert_exporter": "python",
   "pygments_lexer": "ipython3",
   "version": "3.12.4"
  }
 },
 "nbformat": 4,
 "nbformat_minor": 5
}
